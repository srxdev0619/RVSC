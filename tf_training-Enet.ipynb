{
 "cells": [
  {
   "cell_type": "code",
   "execution_count": 1,
   "metadata": {
    "collapsed": false
   },
   "outputs": [],
   "source": [
    "from __future__ import absolute_import\n",
    "from __future__ import print_function\n",
    "from __future__ import division"
   ]
  },
  {
   "cell_type": "code",
   "execution_count": 2,
   "metadata": {
    "collapsed": false
   },
   "outputs": [
    {
     "name": "stdout",
     "output_type": "stream",
     "text": [
      "[name: \"/cpu:0\"\n",
      "device_type: \"CPU\"\n",
      "memory_limit: 268435456\n",
      "locality {\n",
      "}\n",
      "incarnation: 18325256872038174881\n",
      ", name: \"/gpu:0\"\n",
      "device_type: \"GPU\"\n",
      "memory_limit: 3323592704\n",
      "locality {\n",
      "  bus_id: 1\n",
      "}\n",
      "incarnation: 15529382463613409201\n",
      "physical_device_desc: \"device: 0, name: GeForce GTX 970, pci bus id: 0000:02:00.0\"\n",
      "]\n"
     ]
    }
   ],
   "source": [
    "import os\n",
    "os.environ[\"CUDA_DEVICE_ORDER\"]=\"PCI_BUS_ID\"   # see issue #152\n",
    "os.environ[\"CUDA_VISIBLE_DEVICES\"]=\"0\"\n",
    "\n",
    "from tensorflow.python.client import device_lib\n",
    "print(device_lib.list_local_devices())"
   ]
  },
  {
   "cell_type": "code",
   "execution_count": 3,
   "metadata": {
    "collapsed": false
   },
   "outputs": [
    {
     "data": {
      "text/plain": [
       "[u'/gpu:0']"
      ]
     },
     "execution_count": 3,
     "metadata": {},
     "output_type": "execute_result"
    }
   ],
   "source": [
    "from tensorflow.python.client import device_lib\n",
    "\n",
    "def get_available_gpus():\n",
    "    local_device_protos = device_lib.list_local_devices()\n",
    "    return [x.name for x in local_device_protos if x.device_type == 'GPU']\n",
    "get_available_gpus()"
   ]
  },
  {
   "cell_type": "code",
   "execution_count": 4,
   "metadata": {
    "collapsed": false
   },
   "outputs": [
    {
     "name": "stderr",
     "output_type": "stream",
     "text": [
      "Using TensorFlow backend.\n"
     ]
    }
   ],
   "source": [
    "import numpy as np\n",
    "from keras.layers import Input\n",
    "from keras.models import Model\n",
    "import tensorflow as tf\n",
    "import scipy\n",
    "import matplotlib.pyplot as plt\n",
    "from os import listdir\n",
    "from os.path import isfile, join\n",
    "import scipy.misc\n",
    "\n",
    "from models import *\n",
    "import random\n",
    "from keras import backend as K\n",
    "sess = tf.Session()\n",
    "K.set_session(sess)"
   ]
  },
  {
   "cell_type": "code",
   "execution_count": 5,
   "metadata": {
    "collapsed": true
   },
   "outputs": [],
   "source": [
    "class Batch():\n",
    "    def __init__(self, dirname):\n",
    "        all_files = self.get_files(dirname)\n",
    "\n",
    "        self.num_all = len(all_files)\n",
    "        self.num_train = int(self.num_all*0.80)\n",
    "        self.num_test = self.num_all - self.num_train\n",
    "\n",
    "        random.shuffle(all_files)\n",
    "\n",
    "        self.train_files = all_files[:self.num_train]\n",
    "        self.test_files = all_files[self.num_train:]\n",
    "        self.train_start = 0\n",
    "        self.test_start = 0\n",
    "        \n",
    "    def get_files(self, dirname, mode='i'):\n",
    "        img_dir = dirname + '/images/'\n",
    "        contour_dir = dirname + '/contours_' + mode + '/'\n",
    "        img_names = [join(img_dir, f) for f in listdir(img_dir) if isfile(join(img_dir, f))]\n",
    "        contour_names = [join(contour_dir, f) for f in listdir(contour_dir) \n",
    "                        if isfile(join(contour_dir, f))]\n",
    "        img_names.sort()\n",
    "        contour_names.sort()\n",
    "        return list(zip(img_names, contour_names))\n",
    "\n",
    "    def image_augment(self, img1, img2):\n",
    "        rand_num = np.random.rand()\n",
    "        if rand_num < 0.50:\n",
    "            img1 = np.fliplr(img1)\n",
    "            img2 = np.fliplr(img2)\n",
    "        else:\n",
    "            return img1, img2\n",
    "        return img1, img2\n",
    "\n",
    "    def read_images(self, files):\n",
    "        batch_size = len(files)\n",
    "        imgs = np.ones((batch_size, 256, 256, 1))\n",
    "        contours = np.ones((batch_size, 256, 256, 1))\n",
    "        img_contours = np.ones((batch_size, 256, 256, 2))\n",
    "        for i in range(len(files)):\n",
    "            img = scipy.misc.imread(files[i][0])\n",
    "            contour = scipy.misc.imread(files[i][1])\n",
    "            img, contour = self.image_augment(img, contour)\n",
    "            img = scipy.misc.imresize(img, (256, 256))/255.0\n",
    "            contour = scipy.misc.imresize(contour, (256, 256))/255.0\n",
    "            imgs[i,:,:,:] = np.expand_dims(img, -1)#.transpose(2,0,1)\n",
    "            contours[i,:,:,:] = np.expand_dims(contour, -1)\n",
    "            img_contours[i,:,:,:] = np.stack([contour, img], axis=-1)\n",
    "        return imgs, contours, img_contours\n",
    "\n",
    "\n",
    "    def get_next_batch(self, batch_size):\n",
    "        is_running = True\n",
    "        end = min(self.train_start + batch_size, self.num_train)\n",
    "        files = self.train_files[self.train_start:end]\n",
    "        self.train_start += batch_size\n",
    "        if end == self.num_train:\n",
    "            self.train_start = 0\n",
    "            random.shuffle(self.train_files)\n",
    "            is_running = False\n",
    "        imgs, contours, img_contours = self.read_images(files)\n",
    "        return imgs, contours, img_contours, is_running\n",
    "    \n",
    "    def get_next_testbatch(self, batch_size):\n",
    "        is_running = True\n",
    "        end = min(self.test_start + batch_size, self.num_test)\n",
    "        files = self.test_files[self.test_start:end]\n",
    "        self.test_start += batch_size\n",
    "        if end == self.num_test:\n",
    "            self.test_start = 0\n",
    "            is_running = False\n",
    "        imgs, contours, img_contours = self.read_images(files)\n",
    "        return imgs, contours, img_contours, is_running\n",
    "    "
   ]
  },
  {
   "cell_type": "code",
   "execution_count": 6,
   "metadata": {
    "collapsed": false
   },
   "outputs": [],
   "source": [
    "dirname = './Train_Set'\n",
    "\n",
    "batch = Batch(dirname)"
   ]
  },
  {
   "cell_type": "code",
   "execution_count": 7,
   "metadata": {
    "collapsed": false
   },
   "outputs": [],
   "source": [
    "img_size = 256\n",
    "trainable = True\n",
    "lr = 5e-5\n",
    "c = 1e-2\n",
    "\n",
    "enet_inputs_pl = tf.placeholder(tf.float32, shape=[None, img_size, img_size, 1])\n",
    "d_inputs_pl = tf.placeholder(tf.float32, shape=[None, img_size, img_size, 2])\n",
    "\n",
    "enet_input = Input(shape=(img_size, img_size, 1))\n",
    "enet_output = enet(enet_input, 1, trainable=trainable)\n",
    "\n",
    "d_input = Input(shape=(img_size, img_size, 2))\n",
    "d_out = discriminator(d_input, trainable=trainable)\n",
    "\n",
    "# Compiling the models for the E-Net and the Discriminator\n",
    "enet_model = Model(inputs=enet_input, outputs=enet_output)\n",
    "d_model = Model(inputs=d_input, outputs=d_out)\n",
    "\n",
    "enet_weights = [w for w in tf.global_variables() if 'ENet' in w.name]\n",
    "d_weights = [w for w in tf.global_variables() if 'discriminator' in w.name]\n",
    "\n",
    "pred_mask = enet_model(enet_inputs_pl)\n",
    "fake_inputs = tf.concat([pred_mask, enet_inputs_pl], axis=-1)\n",
    "\n",
    "# Expectation of the fake and real probability distribution\n",
    "d_real = d_model(d_inputs_pl)\n",
    "d_fake = d_model(fake_inputs)\n",
    "\n",
    "loss_enet = tf.reduce_mean(d_fake)\n",
    "# The Wasserstien Loss\n",
    "loss_d = tf.reduce_mean(d_real) - tf.reduce_mean(d_fake) \n",
    "\n",
    "opt_enet = tf.train.RMSPropOptimizer(lr)\n",
    "opt_d = tf.train.RMSPropOptimizer(lr)\n",
    "\n",
    "grad_enet = opt_enet.compute_gradients(-1*loss_enet, enet_weights)\n",
    "grad_d = opt_d.compute_gradients(-1*loss_d, d_weights)\n",
    "\n",
    "train_op_enet = opt_enet.apply_gradients(grad_enet)\n",
    "train_op_d = opt_d.apply_gradients(grad_d)\n",
    "\n",
    "clip_d_weights = [w.assign(tf.clip_by_value(w, -c, c)) for w in d_weights]\n",
    "\n",
    "init = tf.global_variables_initializer()\n",
    "\n",
    "# Creating summaries of the Wasserstien Distance, Generated and Real Mask\n",
    "tf.summary.scalar(\"Wasserstien_Distance\", loss_d)\n",
    "\n",
    "tf.summary.image(\"Generated_Mask\", pred_mask, max_outputs=1)\n",
    "\n",
    "tf.summary.image(\"Real_Mask\", tf.expand_dims(d_inputs_pl[:,:,:,0], -1), max_outputs=1)\n",
    "\n",
    "merged_summary_op = tf.summary.merge_all()"
   ]
  },
  {
   "cell_type": "code",
   "execution_count": null,
   "metadata": {
    "collapsed": false
   },
   "outputs": [],
   "source": [
    "num_epochs = 3000\n",
    "logs_path = './enet_logs'\n",
    "\n",
    "saver = tf.train.Saver()\n",
    "\n",
    "batch_size = 10\n",
    "ep_critic = 5\n",
    "with sess.as_default():\n",
    "    sess.run(init)\n",
    "    summary_writer = tf.summary.FileWriter(logs_path, graph=tf.get_default_graph())\n",
    "    count=0\n",
    "    for epoch in range(num_epochs):\n",
    "        is_running = True\n",
    "        while is_running:\n",
    "            #print(count, end=' ')\n",
    "            if count%100 == 0:\n",
    "                ep_critic = 100\n",
    "            else:\n",
    "                ep_critic = 5\n",
    "            for i in range(ep_critic):\n",
    "                imgs, _, img_contours, is_running = batch.get_next_batch(batch_size)\n",
    "                sess.run([train_op_d], \n",
    "                         feed_dict={enet_inputs_pl: imgs, d_inputs_pl:img_contours,\n",
    "                                    K.learning_phase(): 1})\n",
    "                sess.run([clip_d_weights], \n",
    "                         feed_dict={enet_inputs_pl: imgs, d_inputs_pl:img_contours,\n",
    "                                    K.learning_phase(): 1})\n",
    "                if not is_running:\n",
    "                    break\n",
    "            _, summary = sess.run([train_op_enet, merged_summary_op], \n",
    "                             feed_dict={enet_inputs_pl: imgs, d_inputs_pl:img_contours,\n",
    "                                        K.learning_phase(): 1})\n",
    "            summary_writer.add_summary(summary, count)\n",
    "            count += 1\n",
    "        saver.save(sess, 'RV_Segmentation.ckpt')"
   ]
  },
  {
   "cell_type": "code",
   "execution_count": null,
   "metadata": {
    "collapsed": true
   },
   "outputs": [],
   "source": []
  }
 ],
 "metadata": {
  "anaconda-cloud": {},
  "kernelspec": {
   "display_name": "Python 2",
   "language": "python",
   "name": "python2"
  },
  "language_info": {
   "codemirror_mode": {
    "name": "ipython",
    "version": 2
   },
   "file_extension": ".py",
   "mimetype": "text/x-python",
   "name": "python",
   "nbconvert_exporter": "python",
   "pygments_lexer": "ipython2",
   "version": "2.7.12"
  }
 },
 "nbformat": 4,
 "nbformat_minor": 1
}
